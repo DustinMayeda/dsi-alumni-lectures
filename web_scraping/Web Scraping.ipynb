{
 "cells": [
  {
   "cell_type": "code",
   "execution_count": 1,
   "metadata": {
    "collapsed": true
   },
   "outputs": [],
   "source": [
    "import requests\n",
    "from bs4 import BeautifulSoup\n",
    "from mechanize import Browser\n",
    "from selenium import webdriver\n",
    "from selenium.webdriver.support.ui import WebDriverWait\n",
    "from selenium.webdriver.support import expected_conditions as EC\n",
    "from selenium.webdriver.common.by import By\n",
    "import time"
   ]
  },
  {
   "cell_type": "markdown",
   "metadata": {},
   "source": [
    "### Goal: get tripadvisor reviews for top Seattle attractions"
   ]
  },
  {
   "cell_type": "markdown",
   "metadata": {},
   "source": [
    "### 1. Scrape data from page using requests and BeautifulSoup"
   ]
  },
  {
   "cell_type": "code",
   "execution_count": 2,
   "metadata": {
    "collapsed": false
   },
   "outputs": [],
   "source": [
    "# url = 'https://www.tripadvisor.com/Attraction_Review-g60878-d3184389-Reviews-Chihuly_Garden_and_Glass-Seattle_Washington.html#REVIEWS'\n",
    "\n",
    "def get_reviews(response):\n",
    "#     response = requests.get(url)\n",
    "    soup = BeautifulSoup(response, 'html.parser')\n",
    "    entries = soup.findAll('div', {'class': 'entry'})\n",
    "    reviews = [entry.text.replace('\\n', '') for entry in entries]\n",
    "    return reviews"
   ]
  },
  {
   "cell_type": "markdown",
   "metadata": {},
   "source": [
    "### 2. Use mechanize to get reviews for all of the top attractions"
   ]
  },
  {
   "cell_type": "code",
   "execution_count": 3,
   "metadata": {
    "collapsed": false
   },
   "outputs": [],
   "source": [
    "def mechanize_reviews(url):\n",
    "    br = Browser()  # Initialize browser object\n",
    "    br.set_handle_robots(False)  # try this if you get a 'disallowed by robots.txt' error\n",
    "    # br.addheaders = [('User-agent', 'Firefox')]  # sometimes you need this line\n",
    "    br.open(url)  # Retrieve the requested page\n",
    "    br.select_form(nr=0)\n",
    "    reviews = []\n",
    "    for link in br.links():\n",
    "        if 'Attraction_Review' in str(link):\n",
    "            data = br.follow_link(link)\n",
    "            reviews = get_reviews(data)\n",
    "            if len(reviews) > 10:\n",
    "                return reviews\n",
    "    return reviews      "
   ]
  },
  {
   "cell_type": "markdown",
   "metadata": {},
   "source": [
    "### Get reviews for top attractions in multiple cities"
   ]
  },
  {
   "cell_type": "code",
   "execution_count": 5,
   "metadata": {
    "collapsed": false
   },
   "outputs": [],
   "source": [
    "url = 'https://www.tripadvisor.com'\n",
    "places = ['Portland, OR', 'San Francisco, CA', 'Seattle, WA']\n",
    "chromedriver = '/Users/sydneydecoto/bin/chromedriver'\n",
    "for place in places:\n",
    "    # Initialize a chrome driver and go to url\n",
    "    driver = webdriver.Chrome(chromedriver)\n",
    "    driver.get(url)\n",
    "    # wait for page to load, time out after 10 seconds\n",
    "    searchbox = WebDriverWait(driver, 10).until(EC.presence_of_element_located((By.ID, 'GEO_SCOPED_SEARCH_INPUT')))\n",
    "    searchbox.send_keys(place)\n",
    "  \n",
    "    mainsearch = WebDriverWait(driver, 10).until(EC.presence_of_element_located((By.ID, 'mainSearch')))\n",
    "\n",
    "    mainsearch.send_keys('Things to Do')\n",
    "    driver.find_elements_by_class_name('inner')[0].click()\n",
    "    driver.switch_to_alert()  # ignore the popup\n",
    "    reviews = mechanize_reviews(driver.current_url)\n",
    "#     print reviews\n",
    "    driver.quit()"
   ]
  },
  {
   "cell_type": "markdown",
   "metadata": {},
   "source": [
    "### Finding forms with mechanize"
   ]
  },
  {
   "cell_type": "code",
   "execution_count": 17,
   "metadata": {
    "collapsed": false
   },
   "outputs": [
    {
     "name": "stdout",
     "output_type": "stream",
     "text": [
      "<POST https://seattle.craigslist.org/favorites application/x-www-form-urlencoded\n",
      "  <HiddenControl(lastLink=) (readonly)>\n",
      "  <HiddenControl(lastTitle=) (readonly)>\n",
      "  <HiddenControl(fl=) (readonly)>\n",
      "  <HiddenControl(uf=1) (readonly)>>\n",
      "<GET https://seattle.craigslist.org/search/ application/x-www-form-urlencoded\n",
      "  <HiddenControl(sort=rel) (readonly)>\n",
      "  <TextControl(query=)>\n",
      "  <SelectControl(catAbb=[ccc, eee, ggg, hhh, jjj, ppp, res, *sss, bbb])>\n",
      "  <SubmitButtonControl(<None>=) (readonly)>>\n"
     ]
    }
   ],
   "source": [
    "br = Browser()  # Initialize browser object\n",
    "br.set_handle_robots(False)  # try this if you get a 'disallowed by robots.txt' error\n",
    "br.addheaders = [('User-agent', 'Firefox')]  # sometimes you need this line\n",
    "\n",
    "url = 'https://seattle.craigslist.org/'\n",
    "br.open(url)\n",
    "for form in br.forms():\n",
    "    print form"
   ]
  },
  {
   "cell_type": "code",
   "execution_count": null,
   "metadata": {
    "collapsed": true
   },
   "outputs": [],
   "source": []
  }
 ],
 "metadata": {
  "kernelspec": {
   "display_name": "Python 2",
   "language": "python",
   "name": "python2"
  },
  "language_info": {
   "codemirror_mode": {
    "name": "ipython",
    "version": 2
   },
   "file_extension": ".py",
   "mimetype": "text/x-python",
   "name": "python",
   "nbconvert_exporter": "python",
   "pygments_lexer": "ipython2",
   "version": "2.7.12"
  }
 },
 "nbformat": 4,
 "nbformat_minor": 0
}
