{
 "cells": [
  {
   "cell_type": "markdown",
   "metadata": {},
   "source": [
    "<hr>\n",
    "# AWS Tips\n",
    "<hr>\n",
    "<b>speaker: </b>Rob Dalton<br>\n",
    "<b>date: </b>12/09/2016\n",
    "<hr>\n",
    "## Overview\n",
    "We've learned a lot about AWS so far in this program. However, there are a few things that were either brushed over or weren't mentioned that can make our lives much easier.\n",
    "\n",
    "This notebook covers those things. The topics I want to cover and the questions I hope to answer:\n",
    "\n",
    "#### EC2\n",
    "- What exactly is an EC2 instance? How do I manage one?\n",
    "- Is there an easy way to create an instance with the packages I need?\n",
    "- How do I back up my instances?\n",
    "\n",
    "#### EMR\n",
    "- What exactly is an EMR cluster? How do I manage one?\n",
    "- Is there an easy way to create a cluster with the packages I need?\n",
    "\n",
    "#### Instance Sizing <em>*In Progress</em>\n",
    "- What size instance do I need?\n",
    "- What size cluster do I need?\n",
    "\n",
    "<hr>\n",
    "\n",
    "## Setup"
   ]
  },
  {
   "cell_type": "code",
   "execution_count": 51,
   "metadata": {
    "collapsed": true
   },
   "outputs": [],
   "source": [
    "import json\n",
    "import os\n",
    "import boto3"
   ]
  },
  {
   "cell_type": "code",
   "execution_count": 4,
   "metadata": {
    "collapsed": true
   },
   "outputs": [],
   "source": [
    "s3 = boto3.client(\"s3\")"
   ]
  },
  {
   "cell_type": "markdown",
   "metadata": {},
   "source": [
    "<hr>\n",
    "## EC2\n",
    "\n",
    "### What is it?\n",
    "\n",
    "Amazon Elastic Cloud Compute (EC2) web service that provides resizable compute capacity in the cloud. Think of it as a way to make computers in the cloud for your use. \n",
    "\n",
    "You manage EC2 with resources. Resources include:\n",
    "- Amazon Machine Images (AMI)\n",
    "- Instances\n",
    "- Volumes\n",
    "- Snapshots"
   ]
  },
  {
   "cell_type": "markdown",
   "metadata": {},
   "source": [
    "### Amazon Machine Images (AMI)\n",
    "An AMI is a blueprint for your computing capacity. You can use the ones Amazon has created, ones the AWS community has made available, or you can make your own."
   ]
  },
  {
   "cell_type": "markdown",
   "metadata": {},
   "source": [
    "![AMI selection page](./ami_screenshot.png)"
   ]
  },
  {
   "cell_type": "markdown",
   "metadata": {},
   "source": [
    "### Instances\n",
    "\n",
    "Instances are essentially VPS's - Virtual Private Servers. They are blocks within AWS's cloud of computing power that you can reserve for yourself. Think of an instance as a CPU or set of CPUs.\n",
    "\n",
    "You can create them with the command line or with the AWS console."
   ]
  },
  {
   "cell_type": "code",
   "execution_count": 75,
   "metadata": {
    "collapsed": true
   },
   "outputs": [],
   "source": [
    "# create instance\n",
    "response = !aws ec2 run-instances --image-id ami-a9d276c9 \\\n",
    "    --count 1 \\\n",
    "    --instance-type t2.micro \\\n",
    "    --key-name ec2_rob \\\n",
    "    --security-groups ssh_only \\\n",
    "    --block-device-mappings file://examples/blockDeviceMappings.json \\\n",
    "    --user-data file://examples/bootstrap-ec2.sh"
   ]
  },
  {
   "cell_type": "markdown",
   "metadata": {},
   "source": [
    "You can specify a script to run on startup with the <code>--user-data</code> option. This enables you to do things like automatically install <code>anaconda</code> and <code>nltk</code> when the instance is created, or to configure a server before you launch it."
   ]
  },
  {
   "cell_type": "markdown",
   "metadata": {},
   "source": [
    "### Volumes"
   ]
  },
  {
   "cell_type": "markdown",
   "metadata": {},
   "source": [
    "Volumes are blocks of memory. When you create an instance, that instance is assigned a root volume - the place where its operating information is stored. This root volume is required for your instance to function as a computer.\n",
    "\n",
    "You can assign more than one volume to an instance. Databases and large datsets should be stored in separate volumes."
   ]
  },
  {
   "cell_type": "markdown",
   "metadata": {},
   "source": [
    "#### Root Volume Size\n",
    "The default size for this root volume is 8GB - this is too small and you should resize it. You MUST do this when you create the instance.\n",
    "\n",
    "You can do this in the console. Or, if you're using the command line, you create a block device mapping file - a JSON file that contains the information for how you want your volumes to be configured."
   ]
  },
  {
   "cell_type": "code",
   "execution_count": 71,
   "metadata": {
    "collapsed": false
   },
   "outputs": [
    {
     "name": "stdout",
     "output_type": "stream",
     "text": [
      "{\"DeviceName\": \"/dev/sda1\", \"Ebs\": {\"DeleteOnTermination\": true, \"VolumeType\": \"gp2\", \"VolumeSize\": 15}}\n",
      "{\"DeviceName\": \"/dev/sdf\", \"Ebs\": {\"DeleteOnTermination\": true, \"VolumeSize\": 20}}\n"
     ]
    }
   ],
   "source": [
    "# view block device mappings\n",
    "with open('examples/blockDeviceMappings.json') as f:\n",
    "    block_device_mappings = json.load(f)\n",
    "    \n",
    "print json.dumps(block_device_mappings[0])+\"\\n\"+json.dumps(block_device_mappings[1])"
   ]
  },
  {
   "cell_type": "markdown",
   "metadata": {},
   "source": [
    "### Snapshots"
   ]
  },
  {
   "cell_type": "markdown",
   "metadata": {},
   "source": [
    "A snapshot is a copy of a volume. Snapshots are extremely useful.\n",
    "\n",
    "You can use them to:\n",
    "- Create backups for your instances\n",
    "- Create AMIs\n",
    "\n",
    "You can create them from the command line on your instance. However, it's easier to do it from the console. Note that when creating snapshots, you must specify the id or name of the <b>VOLUME</b>, not the instance"
   ]
  },
  {
   "cell_type": "markdown",
   "metadata": {},
   "source": [
    "### Tags\n",
    "On creation, each resource is assigned a unique ID. You can also tag your resources with custom values. This can help you organize and identify them - for example, the \"Name\" tag is useful for labeling your individual EC2 instances and snapshots.\n",
    "\n",
    "Let's add a \"Name\" tag to the instance we just created."
   ]
  },
  {
   "cell_type": "code",
   "execution_count": 76,
   "metadata": {
    "collapsed": false
   },
   "outputs": [
    {
     "name": "stdout",
     "output_type": "stream",
     "text": [
      "i-03f418bb99c4ce339\n"
     ]
    }
   ],
   "source": [
    "# convert response to json dict\n",
    "data = json.loads(''.join(list(response)))\n",
    "\n",
    "# get instance id\n",
    "instance_id = data[\"Instances\"][0][\"InstanceId\"]\n",
    "\n",
    "print instance_id"
   ]
  },
  {
   "cell_type": "code",
   "execution_count": 77,
   "metadata": {
    "collapsed": true
   },
   "outputs": [],
   "source": [
    "# add name tag\n",
    "!aws ec2 create-tags --resources {instance_id} --tags Key=Name,Value=awsTestInstance"
   ]
  },
  {
   "cell_type": "markdown",
   "metadata": {},
   "source": [
    "## EMR\n",
    "Amazon Elastic Map Reduce (EMR) is a service that provides clusters of EC2 instances for intensive compute capacity.\n",
    "\n",
    "As it's based on EC2, you can use many of the same resources to manage EMR.\n",
    "\n",
    "### Boostrap Scripts\n",
    "When you create an EMR cluster, you use the <code>--bootstrap</code> option to specify any scripts you want to run on startup. This runs the script on EVERY instance in your cluster. This is extremely important - sometimes distributed file systems like Spark require that packages exist on each worker node, and that these packages are found with the same exact paths."
   ]
  },
  {
   "cell_type": "markdown",
   "metadata": {},
   "source": [
    "## Additional Reading"
   ]
  },
  {
   "cell_type": "code",
   "execution_count": null,
   "metadata": {
    "collapsed": false
   },
   "outputs": [],
   "source": [
    "# best practices guide\n",
    "http://docs.aws.amazon.com/AWSEC2/latest/UserGuide/ec2-best-practices.html"
   ]
  }
 ],
 "metadata": {
  "anaconda-cloud": {},
  "kernelspec": {
   "display_name": "Python [Root]",
   "language": "python",
   "name": "Python [Root]"
  },
  "language_info": {
   "codemirror_mode": {
    "name": "ipython",
    "version": 2
   },
   "file_extension": ".py",
   "mimetype": "text/x-python",
   "name": "python",
   "nbconvert_exporter": "python",
   "pygments_lexer": "ipython2",
   "version": "2.7.12"
  }
 },
 "nbformat": 4,
 "nbformat_minor": 0
}
