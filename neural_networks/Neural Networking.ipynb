{
 "cells": [
  {
   "cell_type": "markdown",
   "metadata": {},
   "source": [
    "# TensorFlow Inception-v3 Feature Extraction setup:\n",
    "\n",
    "Special thanks to KERNIX for their extremely helpful blog\n",
    "\n",
    "http://www.kernix.com/blog/image-classification-with-a-pre-trained-deep-neural-network_p11"
   ]
  },
  {
   "cell_type": "markdown",
   "metadata": {
    "collapsed": false
   },
   "source": [
    "## You can follow along at home!\n",
    "\n",
    "### install tensorflow:\n",
    "```\n",
    "conda install -c conda-forge tensorflow\n",
    "```\n",
    "\n",
    "### navigate to tensorflow directory:\n",
    "```\n",
    "cd anaconda/lib/python2.7/site-packages/tensorflow/models/image/imagenet\n",
    "```\n",
    "\n",
    "### run python command to set up imagenet neural network:\n",
    "``` \n",
    "python classify_image.py --model_dir <desired model location>/imagenet\n",
    "```\n",
    "\n",
    "#### in my case this was:\n",
    "```\n",
    "python classify_image.py --model_dir ~/coradek/CNW_Wildlife_Identification/imagenet\n",
    "```\n",
    "\n"
   ]
  },
  {
   "cell_type": "code",
   "execution_count": 10,
   "metadata": {
    "collapsed": true
   },
   "outputs": [],
   "source": [
    "import os\n",
    "import tensorflow as tf\n",
    "# import tensorflow.python.platform\n",
    "from tensorflow.python.platform import gfile\n",
    "import numpy as np\n",
    "import pandas as pd"
   ]
  },
  {
   "cell_type": "markdown",
   "metadata": {},
   "source": [
    "## Some Functions for working with Inception-v3"
   ]
  },
  {
   "cell_type": "code",
   "execution_count": 11,
   "metadata": {
    "collapsed": true
   },
   "outputs": [],
   "source": [
    "# Create the TensorFlow graph\n",
    "\n",
    "def create_graph():\n",
    "    model_dir = './CNW_Wildlife_Identification/imagenet'\n",
    "\n",
    "    with gfile.FastGFile(os.path.join(\n",
    "        model_dir, 'classify_image_graph_def.pb'), 'rb') as f:\n",
    "        graph_def = tf.GraphDef()\n",
    "        graph_def.ParseFromString(f.read())\n",
    "        _ = tf.import_graph_def(graph_def, name='')"
   ]
  },
  {
   "cell_type": "code",
   "execution_count": 12,
   "metadata": {
    "collapsed": true
   },
   "outputs": [],
   "source": [
    "# Start a TensorFlow Session and choose our \"tensor\" for feature extraction\n",
    "#     ('pool_3:0' is the last layer before classification)\n",
    "\n",
    "def setup():\n",
    "    \n",
    "    create_graph()  # Only needs to run the first time\n",
    "\n",
    "    with tf.Session() as sess:\n",
    "\n",
    "        # Get the last feature layer (preclassification) from inception-v3\n",
    "        next_to_last_tensor = sess.graph.get_tensor_by_name('pool_3:0')\n",
    "\n",
    "        s = sess\n",
    "        t = next_to_last_tensor\n",
    "\n",
    "        return s,t"
   ]
  },
  {
   "cell_type": "code",
   "execution_count": 4,
   "metadata": {
    "collapsed": true
   },
   "outputs": [],
   "source": [
    "# Get the actual features!\n",
    "\n",
    "def get_features(image, session, tensor):\n",
    "    if not gfile.Exists(image):\n",
    "        tf.logging.fatal('File does not exist %s', image)\n",
    "\n",
    "    image_data = gfile.FastGFile(image, 'rb').read()\n",
    "\n",
    "    predictions = session.run(tensor,\n",
    "                        {'DecodeJpeg/contents:0': image_data})\n",
    "    features = np.squeeze(predictions)\n",
    "    return features.reshape(1,-1)"
   ]
  },
  {
   "cell_type": "markdown",
   "metadata": {},
   "source": [
    "## Putting it to use!"
   ]
  },
  {
   "cell_type": "code",
   "execution_count": 13,
   "metadata": {
    "collapsed": false
   },
   "outputs": [],
   "source": [
    "session, tensor = setup()\n",
    "\n",
    "features = get_features('CNW_Wildlife_Identification/data/first_sample/EK000026-2.JPG',\n",
    "                        session, tensor)\n"
   ]
  },
  {
   "cell_type": "code",
   "execution_count": 14,
   "metadata": {
    "collapsed": false
   },
   "outputs": [
    {
     "name": "stdout",
     "output_type": "stream",
     "text": [
      "[[ 0.26290658  1.18631959  0.89336032 ...,  0.08026978  0.19738525\n",
      "   0.64380366]]\n"
     ]
    }
   ],
   "source": [
    "print features"
   ]
  },
  {
   "cell_type": "markdown",
   "metadata": {},
   "source": [
    "## How about more than one image"
   ]
  },
  {
   "cell_type": "markdown",
   "metadata": {},
   "source": [
    "If you put your images folders sorted by class (e.g."
   ]
  },
  {
   "cell_type": "code",
   "execution_count": 15,
   "metadata": {
    "collapsed": true
   },
   "outputs": [],
   "source": [
    "directory = 'CNW_Wildlife_Identification/data/first_sample'\n",
    "\n",
    "image_list = []\n",
    "\n",
    "for p, dirs, files in os.walk(directory):\n",
    "    for ff in files:\n",
    "        if ff[-4:].lower() == '.jpg':\n",
    "            image_list.append(p+'/'+ff)"
   ]
  },
  {
   "cell_type": "code",
   "execution_count": 16,
   "metadata": {
    "collapsed": false
   },
   "outputs": [
    {
     "data": {
      "text/plain": [
       "['CNW_Wildlife_Identification/data/first_sample/EK000004-2.JPG',\n",
       " 'CNW_Wildlife_Identification/data/first_sample/EK000004.JPG',\n",
       " 'CNW_Wildlife_Identification/data/first_sample/EK000010-2.JPG',\n",
       " 'CNW_Wildlife_Identification/data/first_sample/EK000010.JPG',\n",
       " 'CNW_Wildlife_Identification/data/first_sample/EK000011-2.JPG',\n",
       " 'CNW_Wildlife_Identification/data/first_sample/EK000011.JPG',\n",
       " 'CNW_Wildlife_Identification/data/first_sample/EK000012-2.JPG',\n",
       " 'CNW_Wildlife_Identification/data/first_sample/EK000012.JPG',\n",
       " 'CNW_Wildlife_Identification/data/first_sample/EK000013-2.JPG',\n",
       " 'CNW_Wildlife_Identification/data/first_sample/EK000013.JPG',\n",
       " 'CNW_Wildlife_Identification/data/first_sample/EK000016-2.JPG',\n",
       " 'CNW_Wildlife_Identification/data/first_sample/EK000016.JPG',\n",
       " 'CNW_Wildlife_Identification/data/first_sample/EK000025-2.JPG',\n",
       " 'CNW_Wildlife_Identification/data/first_sample/EK000025.JPG',\n",
       " 'CNW_Wildlife_Identification/data/first_sample/EK000026-2.JPG',\n",
       " 'CNW_Wildlife_Identification/data/first_sample/EK000026.JPG',\n",
       " 'CNW_Wildlife_Identification/data/first_sample/EK000027-2.JPG',\n",
       " 'CNW_Wildlife_Identification/data/first_sample/EK000027.JPG',\n",
       " 'CNW_Wildlife_Identification/data/first_sample/EK000028-2.JPG',\n",
       " 'CNW_Wildlife_Identification/data/first_sample/EK000028.JPG',\n",
       " 'CNW_Wildlife_Identification/data/first_sample/EK000029-2.JPG',\n",
       " 'CNW_Wildlife_Identification/data/first_sample/EK000029.JPG',\n",
       " 'CNW_Wildlife_Identification/data/first_sample/EK000030-2.JPG',\n",
       " 'CNW_Wildlife_Identification/data/first_sample/EK000030.JPG',\n",
       " 'CNW_Wildlife_Identification/data/first_sample/test_subfolder/EK000026-2.JPG',\n",
       " 'CNW_Wildlife_Identification/data/first_sample/test_subfolder/EK000026.JPG',\n",
       " 'CNW_Wildlife_Identification/data/first_sample/test_subfolder/EK000027-2.JPG',\n",
       " 'CNW_Wildlife_Identification/data/first_sample/test_subfolder/EK000027.JPG',\n",
       " 'CNW_Wildlife_Identification/data/first_sample/test_subfolder/EK000028-2.JPG',\n",
       " 'CNW_Wildlife_Identification/data/first_sample/test_subfolder/EK000028.JPG',\n",
       " 'CNW_Wildlife_Identification/data/first_sample/test_subfolder/EK000029-2.JPG',\n",
       " 'CNW_Wildlife_Identification/data/first_sample/test_subfolder/EK000029.JPG',\n",
       " 'CNW_Wildlife_Identification/data/first_sample/test_subfolder/EK000030-2.JPG',\n",
       " 'CNW_Wildlife_Identification/data/first_sample/test_subfolder/EK000030.JPG']"
      ]
     },
     "execution_count": 16,
     "metadata": {},
     "output_type": "execute_result"
    }
   ],
   "source": [
    "image_list"
   ]
  },
  {
   "cell_type": "code",
   "execution_count": 17,
   "metadata": {
    "collapsed": true
   },
   "outputs": [],
   "source": [
    "# In practice this is only run once - so setup() is included as part of this function\n",
    "\n",
    "def get_features_repeatedly(image_list):\n",
    "    '''take list of image file paths\n",
    "    return numpy array of features\n",
    "    '''\n",
    "    \n",
    "    create_graph()\n",
    "\n",
    "    with tf.Session() as session:\n",
    "\n",
    "        # Get the last feature layer (preclassification) from inception-v3\n",
    "        tensor = session.graph.get_tensor_by_name('pool_3:0')\n",
    "\n",
    "    nb_features = 2048\n",
    "    features = np.empty((len(image_list),nb_features))\n",
    "\n",
    "    for ind, image in enumerate(image_list):\n",
    "        \n",
    "#         if (ind%50 == 0):\n",
    "#             print('Processing %s...' % (image))\n",
    "        \n",
    "        print('Processing %s...' % (image))\n",
    "\n",
    "        if not gfile.Exists(image):\n",
    "            tf.logging.fatal('File does not exist %s', image)\n",
    "\n",
    "        image_data = gfile.FastGFile(image, 'rb').read()\n",
    "\n",
    "        predictions = session.run(tensor,\n",
    "                            {'DecodeJpeg/contents:0': image_data})\n",
    "        features[ind,:] = np.squeeze(predictions)\n",
    "\n",
    "    return features"
   ]
  },
  {
   "cell_type": "code",
   "execution_count": 18,
   "metadata": {
    "collapsed": false
   },
   "outputs": [
    {
     "name": "stdout",
     "output_type": "stream",
     "text": [
      "Processing CNW_Wildlife_Identification/data/first_sample/EK000004-2.JPG...\n",
      "Processing CNW_Wildlife_Identification/data/first_sample/EK000004.JPG...\n",
      "Processing CNW_Wildlife_Identification/data/first_sample/EK000010-2.JPG...\n",
      "Processing CNW_Wildlife_Identification/data/first_sample/EK000010.JPG...\n",
      "Processing CNW_Wildlife_Identification/data/first_sample/EK000011-2.JPG...\n",
      "Processing CNW_Wildlife_Identification/data/first_sample/EK000011.JPG...\n",
      "Processing CNW_Wildlife_Identification/data/first_sample/EK000012-2.JPG...\n",
      "Processing CNW_Wildlife_Identification/data/first_sample/EK000012.JPG...\n",
      "Processing CNW_Wildlife_Identification/data/first_sample/EK000013-2.JPG...\n",
      "Processing CNW_Wildlife_Identification/data/first_sample/EK000013.JPG...\n",
      "Processing CNW_Wildlife_Identification/data/first_sample/EK000016-2.JPG...\n",
      "Processing CNW_Wildlife_Identification/data/first_sample/EK000016.JPG...\n",
      "Processing CNW_Wildlife_Identification/data/first_sample/EK000025-2.JPG...\n",
      "Processing CNW_Wildlife_Identification/data/first_sample/EK000025.JPG...\n",
      "Processing CNW_Wildlife_Identification/data/first_sample/EK000026-2.JPG...\n",
      "Processing CNW_Wildlife_Identification/data/first_sample/EK000026.JPG...\n",
      "Processing CNW_Wildlife_Identification/data/first_sample/EK000027-2.JPG...\n",
      "Processing CNW_Wildlife_Identification/data/first_sample/EK000027.JPG...\n",
      "Processing CNW_Wildlife_Identification/data/first_sample/EK000028-2.JPG...\n",
      "Processing CNW_Wildlife_Identification/data/first_sample/EK000028.JPG...\n",
      "Processing CNW_Wildlife_Identification/data/first_sample/EK000029-2.JPG...\n",
      "Processing CNW_Wildlife_Identification/data/first_sample/EK000029.JPG...\n",
      "Processing CNW_Wildlife_Identification/data/first_sample/EK000030-2.JPG...\n",
      "Processing CNW_Wildlife_Identification/data/first_sample/EK000030.JPG...\n",
      "Processing CNW_Wildlife_Identification/data/first_sample/test_subfolder/EK000026-2.JPG...\n",
      "Processing CNW_Wildlife_Identification/data/first_sample/test_subfolder/EK000026.JPG...\n",
      "Processing CNW_Wildlife_Identification/data/first_sample/test_subfolder/EK000027-2.JPG...\n",
      "Processing CNW_Wildlife_Identification/data/first_sample/test_subfolder/EK000027.JPG...\n",
      "Processing CNW_Wildlife_Identification/data/first_sample/test_subfolder/EK000028-2.JPG...\n",
      "Processing CNW_Wildlife_Identification/data/first_sample/test_subfolder/EK000028.JPG...\n",
      "Processing CNW_Wildlife_Identification/data/first_sample/test_subfolder/EK000029-2.JPG...\n",
      "Processing CNW_Wildlife_Identification/data/first_sample/test_subfolder/EK000029.JPG...\n",
      "Processing CNW_Wildlife_Identification/data/first_sample/test_subfolder/EK000030-2.JPG...\n",
      "Processing CNW_Wildlife_Identification/data/first_sample/test_subfolder/EK000030.JPG...\n"
     ]
    }
   ],
   "source": [
    "lotsafeatures = get_features_repeatedly(image_list)"
   ]
  },
  {
   "cell_type": "markdown",
   "metadata": {},
   "source": [
    "inception paper - https://arxiv.org/pdf/1512.00567v3.pdf\n",
    "\n",
    "Kernix Blog - http://www.kernix.com/blog/image-classification-with-a-pre-trained-deep-neural-network_p11\n",
    "\n",
    "\n"
   ]
  },
  {
   "cell_type": "code",
   "execution_count": null,
   "metadata": {
    "collapsed": true
   },
   "outputs": [],
   "source": []
  }
 ],
 "metadata": {
  "anaconda-cloud": {},
  "kernelspec": {
   "display_name": "Python [Root]",
   "language": "python",
   "name": "Python [Root]"
  },
  "language_info": {
   "codemirror_mode": {
    "name": "ipython",
    "version": 2
   },
   "file_extension": ".py",
   "mimetype": "text/x-python",
   "name": "python",
   "nbconvert_exporter": "python",
   "pygments_lexer": "ipython2",
   "version": "2.7.12"
  }
 },
 "nbformat": 4,
 "nbformat_minor": 0
}
